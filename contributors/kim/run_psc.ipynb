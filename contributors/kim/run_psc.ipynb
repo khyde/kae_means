{
 "cells": [
  {
   "cell_type": "markdown",
   "id": "5a099908-8db7-4921-93e9-232212b76bba",
   "metadata": {},
   "source": [
    "# Notebook to run phyto_size_turner"
   ]
  },
  {
   "cell_type": "code",
   "execution_count": null,
   "id": "0d1364fd-7e94-4a21-8752-ed1ee949bf0d",
   "metadata": {},
   "outputs": [],
   "source": []
  }
 ],
 "metadata": {
  "kernelspec": {
   "display_name": "Python 3 (ipykernel)",
   "language": "python",
   "name": "python3"
  },
  "language_info": {
   "codemirror_mode": {
    "name": "ipython",
    "version": 3
   },
   "file_extension": ".py",
   "mimetype": "text/x-python",
   "name": "python",
   "nbconvert_exporter": "python",
   "pygments_lexer": "ipython3",
   "version": "3.10.14"
  }
 },
 "nbformat": 4,
 "nbformat_minor": 5
}
