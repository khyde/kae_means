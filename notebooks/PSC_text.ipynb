{
 "cells": [
  {
   "cell_type": "markdown",
   "id": "5a8c3a1b-f8f3-4cdc-b558-842c775d13a8",
   "metadata": {},
   "source": [
    "## Phytoplankton Size Class\n",
    "\n",
    "### Summary\n",
    "Phytoplankton size class fractions were derived from the Northeast U.S. continental shelf PSC model by Turner et. al (2021). The regional re-parameterized abundance model incorporates sea surface temperature and performs significantly better in the Northeast compared to other global models. \n",
    "\n",
    "### References\n",
    "https://doi.org/10.1016/j.rse.2021.112729\n",
    "\n",
    "<img src=\"Turner_paper.png\" width=\"600\" height=\"100\">"
   ]
  },
  {
   "cell_type": "code",
   "execution_count": null,
   "id": "4820c71d-8844-4463-b593-16a1176797ba",
   "metadata": {},
   "outputs": [],
   "source": []
  }
 ],
 "metadata": {
  "kernelspec": {
   "display_name": "Python 3 (ipykernel)",
   "language": "python",
   "name": "python3"
  },
  "language_info": {
   "codemirror_mode": {
    "name": "ipython",
    "version": 3
   },
   "file_extension": ".py",
   "mimetype": "text/x-python",
   "name": "python",
   "nbconvert_exporter": "python",
   "pygments_lexer": "ipython3",
   "version": "3.10.14"
  }
 },
 "nbformat": 4,
 "nbformat_minor": 5
}
